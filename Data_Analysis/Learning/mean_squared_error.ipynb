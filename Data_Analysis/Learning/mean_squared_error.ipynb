{
  "cells": [
    {
      "cell_type": "markdown",
      "metadata": {
        "id": "OCfI1bkljg5d"
      },
      "source": [
        "# Implementing Mean Squared Error (MSE) using Python"
      ]
    },
    {
      "cell_type": "markdown",
      "metadata": {
        "id": "Sp1C9xfIj1vY"
      },
      "source": [
        "Using Numpy "
      ]
    },
    {
      "cell_type": "code",
      "execution_count": 3,
      "metadata": {
        "colab": {
          "base_uri": "https://localhost:8080/"
        },
        "id": "7Wg7oHH8jerk",
        "outputId": "8c7b101d-536c-4ddb-c2c2-4bb3b4839abd"
      },
      "outputs": [
        {
          "data": {
            "text/plain": [
              "0.21606"
            ]
          },
          "execution_count": 3,
          "metadata": {},
          "output_type": "execute_result"
        }
      ],
      "source": [
        "import numpy as np\n",
        "\n",
        "# observed (given) values\n",
        "y_true = [1, 1, 2, 2 ,4]\n",
        "\n",
        "# predicted values\n",
        "y_pred = [0.6, 1.29, 1.99, 2.69, 3.4] \n",
        "\n",
        "result1 = np.mean(np.square(np.subtract(y_true, y_pred)))\n",
        "result1"
      ]
    },
    {
      "cell_type": "markdown",
      "metadata": {
        "id": "y28BWj7VlJQH"
      },
      "source": [
        "Using sklearn"
      ]
    },
    {
      "cell_type": "code",
      "execution_count": 4,
      "metadata": {
        "colab": {
          "base_uri": "https://localhost:8080/"
        },
        "id": "SpHNkaQWk67H",
        "outputId": "1dd4f94b-df44-4783-a100-216b098a669e"
      },
      "outputs": [
        {
          "data": {
            "text/plain": [
              "0.21606"
            ]
          },
          "execution_count": 4,
          "metadata": {},
          "output_type": "execute_result"
        }
      ],
      "source": [
        "from sklearn.metrics import mean_squared_error\n",
        "\n",
        "# observed (given) values\n",
        "y_true = [1, 1, 2, 2 ,4]\n",
        "\n",
        "# predicted values\n",
        "y_pred = [0.6, 1.29, 1.99, 2.69, 3.4] \n",
        "\n",
        "result2 = mean_squared_error(y_pred, y_true)\n",
        "result2"
      ]
    }
  ],
  "metadata": {
    "colab": {
      "collapsed_sections": [],
      "name": "mean_squared_error.ipynb",
      "provenance": []
    },
    "kernelspec": {
      "display_name": "Python 3",
      "name": "python3"
    },
    "language_info": {
      "name": "python"
    }
  },
  "nbformat": 4,
  "nbformat_minor": 0
}
