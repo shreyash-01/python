{
  "nbformat": 4,
  "nbformat_minor": 0,
  "metadata": {
    "colab": {
      "name": "mean_squared_error.ipynb",
      "provenance": [],
      "collapsed_sections": []
    },
    "kernelspec": {
      "name": "python3",
      "display_name": "Python 3"
    },
    "language_info": {
      "name": "python"
    }
  },
  "cells": [
    {
      "cell_type": "markdown",
      "source": [
        "# Implementing Mean Squared Error (MSE) using Python"
      ],
      "metadata": {
        "id": "OCfI1bkljg5d"
      }
    },
    {
      "cell_type": "markdown",
      "source": [
        "1. Using Numpy "
      ],
      "metadata": {
        "id": "Sp1C9xfIj1vY"
      }
    },
    {
      "cell_type": "code",
      "execution_count": 3,
      "metadata": {
        "colab": {
          "base_uri": "https://localhost:8080/"
        },
        "id": "7Wg7oHH8jerk",
        "outputId": "8c7b101d-536c-4ddb-c2c2-4bb3b4839abd"
      },
      "outputs": [
        {
          "output_type": "execute_result",
          "data": {
            "text/plain": [
              "0.21606"
            ]
          },
          "metadata": {},
          "execution_count": 3
        }
      ],
      "source": [
        "import numpy as np\n",
        "\n",
        "# observed (given) values\n",
        "y_true = [1, 1, 2, 2 ,4]\n",
        "\n",
        "# predicted values\n",
        "y_pred = [0.6, 1.29, 1.99, 2.69, 3.4] \n",
        "\n",
        "result = np.mean(np.square(np.subtract(y_true, y_pred)))\n",
        "result"
      ]
    },
    {
      "cell_type": "markdown",
      "source": [
        "2. Using sklearn"
      ],
      "metadata": {
        "id": "y28BWj7VlJQH"
      }
    },
    {
      "cell_type": "code",
      "source": [
        "from sklearn.metrics import mean_squared_error\n",
        "\n",
        "# observed (given) values\n",
        "y_true = [1, 1, 2, 2 ,4]\n",
        "\n",
        "# predicted values\n",
        "y_pred = [0.6, 1.29, 1.99, 2.69, 3.4] \n",
        "\n",
        "result = mean_squared_error(y_pred, y_true)\n",
        "result"
      ],
      "metadata": {
        "colab": {
          "base_uri": "https://localhost:8080/"
        },
        "id": "SpHNkaQWk67H",
        "outputId": "1dd4f94b-df44-4783-a100-216b098a669e"
      },
      "execution_count": 4,
      "outputs": [
        {
          "output_type": "execute_result",
          "data": {
            "text/plain": [
              "0.21606"
            ]
          },
          "metadata": {},
          "execution_count": 4
        }
      ]
    },
    {
      "cell_type": "code",
      "source": [
        ""
      ],
      "metadata": {
        "id": "WzxPh2SSlcWf"
      },
      "execution_count": null,
      "outputs": []
    }
  ]
}